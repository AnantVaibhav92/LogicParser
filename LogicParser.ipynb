{
 "cells": [
  {
   "cell_type": "code",
   "execution_count": null,
   "metadata": {},
   "outputs": [],
   "source": [
    "CONTAINS([F33], \"Text1\") AND CONTAINS([F22], \"Text2\") THEN \"Data3\""
   ]
  },
  {
   "cell_type": "code",
   "execution_count": 79,
   "metadata": {},
   "outputs": [
    {
     "name": "stdout",
     "output_type": "stream",
     "text": [
      "{'AND': [2, 'and'], 'OR': [2, 'or'], 'NOT': [1, 'not'], 'CONTAINS': [2, 'pycontain'], 'ISNUMBER': [1, 'pyIsnum']}\n"
     ]
    }
   ],
   "source": [
    "str_form = 'CONTAINS([F33], \"TextOne TextTwo\") AND ISNUMBER([F22]) THEN \"Data3\"'\n",
    "\n",
    "#cleaning the string - [ and ] with NULL\n",
    "str_form = str_form.replace('[','')\n",
    "str_form = str_form.replace(']','')\n",
    "\n",
    "dict_opr = {\n",
    "    \n",
    "    #\"THEN\": \"pyThen\",\n",
    "    \"AND\": [2,\"and\"],\n",
    "    \"OR\": [2,\"or\"],\n",
    "    \"NOT\": [1,'not'],\n",
    "    #FUnctions\n",
    "    \"CONTAINS\": [2,\"pycontain\"],\n",
    "    \"ISNUMBER\": [1,\"pyIsnum\"],\n",
    "    \n",
    "}\n",
    "\n",
    "\n",
    "\n",
    "print(dict_opr)"
   ]
  },
  {
   "cell_type": "code",
   "execution_count": 80,
   "metadata": {},
   "outputs": [
    {
     "name": "stdout",
     "output_type": "stream",
     "text": [
      "CONTAINS(F33, \"TextOne TextTwo\") AND ISNUMBER(F22) \n"
     ]
    }
   ],
   "source": [
    "str_form  =  str_form.split('THEN')\n",
    "\n",
    "logic = str_form[0]\n",
    "print(logic)"
   ]
  },
  {
   "cell_type": "code",
   "execution_count": 81,
   "metadata": {},
   "outputs": [
    {
     "name": "stdout",
     "output_type": "stream",
     "text": [
      "\n",
      "BEGIN SENT: '-' (0, None)\n",
      "\n",
      "WORD: 'CONTAINS' \n",
      "##Logical operator/Function found!!\n",
      "\n",
      "PUNCTUATION: '(' (1, '(')\n",
      "##Punctuation found!!\n",
      "\n",
      "MOLECULE: 'F33' \n",
      "##Column number found!!\n",
      "\n",
      "PUNCTUATION: ',' (3, ',')\n",
      "##Punctuation found!!\n",
      "\n",
      "PUNCTUATION: '\"' (1, '„')\n",
      "##Punctuation found!!\n",
      "\n",
      "WORD: 'TextOne' \n",
      "##Logical operator/Function NOT found!!\n",
      "\n",
      "WORD: 'TextTwo' \n",
      "##Logical operator/Function NOT found!!\n",
      "\n",
      "PUNCTUATION: '\"' (3, '“')\n",
      "##Punctuation found!!\n",
      "\n",
      "PUNCTUATION: ')' (3, ')')\n",
      "##Punctuation found!!\n",
      "\n",
      "WORD: 'AND' \n",
      "##Logical operator/Function found!!\n",
      "\n",
      "WORD: 'ISNUMBER' \n",
      "##Logical operator/Function found!!\n",
      "\n",
      "PUNCTUATION: '(' (1, '(')\n",
      "##Punctuation found!!\n",
      "\n",
      "MOLECULE: 'F22' \n",
      "##Column number found!!\n",
      "\n",
      "PUNCTUATION: ')' (3, ')')\n",
      "##Punctuation found!!\n",
      "\n",
      "END SENT: '-' \n"
     ]
    }
   ],
   "source": [
    "# The following import is optional but convenient under Python 2.7\n",
    "from __future__ import unicode_literals\n",
    "from tokenizer import tokenize, TOK\n",
    "\n",
    "text = logic\n",
    "\n",
    "#stck for value\n",
    "value = []\n",
    "#stack for operation\n",
    "opr = []\n",
    "\n",
    "\n",
    "for token in tokenize(text):\n",
    "    \n",
    "    print(\"\\n{0}: '{1}' {2}\".format(\n",
    "        TOK.descr[token.kind],\n",
    "        token.txt or \"-\",\n",
    "        token.val or \"\"))\n",
    "    \n",
    "    #if the token is an operator, push it to stack\n",
    "    if TOK.descr[token.kind] == 'WORD':\n",
    "        if (token.txt in dict_opr ):\n",
    "            print(\"##Logical operator/Function found!!\")\n",
    "            opr. append(token.txt)\n",
    "            \n",
    "            \n",
    "            \n",
    "        else:\n",
    "            print('##Logical operator/Function NOT found!!')\n",
    "    \n",
    "    #if the token is column name, push it to value stack        \n",
    "    elif TOK.descr[token.kind] == 'MOLECULE':\n",
    "        print(\"##Column number found!!\")\n",
    "        \n",
    "    elif TOK.descr[token.kind]  == 'PUNCTUATION':\n",
    "        print(\"##Punctuation found!!\")\n",
    "        \n"
   ]
  }
 ],
 "metadata": {
  "kernelspec": {
   "display_name": "Python 3",
   "language": "python",
   "name": "python3"
  },
  "language_info": {
   "codemirror_mode": {
    "name": "ipython",
    "version": 3
   },
   "file_extension": ".py",
   "mimetype": "text/x-python",
   "name": "python",
   "nbconvert_exporter": "python",
   "pygments_lexer": "ipython3",
   "version": "3.7.1"
  }
 },
 "nbformat": 4,
 "nbformat_minor": 2
}
